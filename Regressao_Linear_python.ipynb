{
 "cells": [
  {
   "cell_type": "markdown",
   "id": "625ce063",
   "metadata": {},
   "source": [
    "**Podemos usar o orçamento de um filme para prever a receita ?**\n"
   ]
  },
  {
   "cell_type": "code",
   "execution_count": 1,
   "id": "71ebed77",
   "metadata": {},
   "outputs": [],
   "source": [
    "import pandas as pd\n",
    "from pandas import DataFrame\n",
    "import matplotlib.pyplot as plt\n",
    "from sklearn.linear_model import LinearRegression"
   ]
  },
  {
   "cell_type": "code",
   "execution_count": 2,
   "id": "288aba6a",
   "metadata": {},
   "outputs": [
    {
     "data": {
      "text/html": [
       "<div>\n",
       "<style scoped>\n",
       "    .dataframe tbody tr th:only-of-type {\n",
       "        vertical-align: middle;\n",
       "    }\n",
       "\n",
       "    .dataframe tbody tr th {\n",
       "        vertical-align: top;\n",
       "    }\n",
       "\n",
       "    .dataframe thead th {\n",
       "        text-align: right;\n",
       "    }\n",
       "</style>\n",
       "<table border=\"1\" class=\"dataframe\">\n",
       "  <thead>\n",
       "    <tr style=\"text-align: right;\">\n",
       "      <th></th>\n",
       "      <th>Rank</th>\n",
       "      <th>Release Date</th>\n",
       "      <th>Movie Title</th>\n",
       "      <th>Production Budget ($)</th>\n",
       "      <th>Worldwide Gross ($)</th>\n",
       "      <th>Domestic Gross ($)</th>\n",
       "    </tr>\n",
       "  </thead>\n",
       "  <tbody>\n",
       "    <tr>\n",
       "      <th>0</th>\n",
       "      <td>5293</td>\n",
       "      <td>8/2/1915</td>\n",
       "      <td>The Birth of a Nation</td>\n",
       "      <td>$110,000</td>\n",
       "      <td>$11,000,000</td>\n",
       "      <td>$10,000,000</td>\n",
       "    </tr>\n",
       "    <tr>\n",
       "      <th>1</th>\n",
       "      <td>5140</td>\n",
       "      <td>5/9/1916</td>\n",
       "      <td>Intolerance</td>\n",
       "      <td>$385,907</td>\n",
       "      <td>$0</td>\n",
       "      <td>$0</td>\n",
       "    </tr>\n",
       "    <tr>\n",
       "      <th>2</th>\n",
       "      <td>5230</td>\n",
       "      <td>12/24/1916</td>\n",
       "      <td>20,000 Leagues Under the Sea</td>\n",
       "      <td>$200,000</td>\n",
       "      <td>$8,000,000</td>\n",
       "      <td>$8,000,000</td>\n",
       "    </tr>\n",
       "    <tr>\n",
       "      <th>3</th>\n",
       "      <td>5299</td>\n",
       "      <td>9/17/1920</td>\n",
       "      <td>Over the Hill to the Poorhouse</td>\n",
       "      <td>$100,000</td>\n",
       "      <td>$3,000,000</td>\n",
       "      <td>$3,000,000</td>\n",
       "    </tr>\n",
       "    <tr>\n",
       "      <th>4</th>\n",
       "      <td>5222</td>\n",
       "      <td>1/1/1925</td>\n",
       "      <td>The Big Parade</td>\n",
       "      <td>$245,000</td>\n",
       "      <td>$22,000,000</td>\n",
       "      <td>$11,000,000</td>\n",
       "    </tr>\n",
       "  </tbody>\n",
       "</table>\n",
       "</div>"
      ],
      "text/plain": [
       "   Rank Release Date                     Movie Title Production Budget ($)  \\\n",
       "0  5293     8/2/1915           The Birth of a Nation              $110,000   \n",
       "1  5140     5/9/1916                     Intolerance              $385,907   \n",
       "2  5230   12/24/1916    20,000 Leagues Under the Sea              $200,000   \n",
       "3  5299    9/17/1920  Over the Hill to the Poorhouse              $100,000   \n",
       "4  5222     1/1/1925                  The Big Parade              $245,000   \n",
       "\n",
       "  Worldwide Gross ($) Domestic Gross ($)  \n",
       "0         $11,000,000        $10,000,000  \n",
       "1                  $0                 $0  \n",
       "2          $8,000,000         $8,000,000  \n",
       "3          $3,000,000         $3,000,000  \n",
       "4         $22,000,000        $11,000,000  "
      ]
     },
     "execution_count": 2,
     "metadata": {},
     "output_type": "execute_result"
    }
   ],
   "source": [
    "df=pd.read_csv(\"cost_revenue_dirty.csv\")#carregando os dados\n",
    "df.head()"
   ]
  },
  {
   "cell_type": "markdown",
   "id": "11fcae2a",
   "metadata": {},
   "source": [
    "Como observado acima temos alguns dados de arrecadação mundial e o quanto arrecadou no mercado americano zerado.\n",
    "Por isso temos que tirar esses dados do nosso estudo."
   ]
  },
  {
   "cell_type": "code",
   "execution_count": 3,
   "id": "1168980e",
   "metadata": {},
   "outputs": [],
   "source": [
    "df = df.loc[df['Worldwide Gross ($)'] != '$0'] #aplicando filtro"
   ]
  },
  {
   "cell_type": "code",
   "execution_count": 4,
   "id": "2ba8d267",
   "metadata": {},
   "outputs": [
    {
     "name": "stdout",
     "output_type": "stream",
     "text": [
      "<class 'pandas.core.frame.DataFrame'>\n",
      "Int64Index: 5034 entries, 0 to 5382\n",
      "Data columns (total 6 columns):\n",
      " #   Column                 Non-Null Count  Dtype \n",
      "---  ------                 --------------  ----- \n",
      " 0   Rank                   5034 non-null   int64 \n",
      " 1   Release Date           5034 non-null   object\n",
      " 2   Movie Title            5034 non-null   object\n",
      " 3   Production Budget ($)  5034 non-null   object\n",
      " 4   Worldwide Gross ($)    5034 non-null   object\n",
      " 5   Domestic Gross ($)     5034 non-null   object\n",
      "dtypes: int64(1), object(5)\n",
      "memory usage: 275.3+ KB\n"
     ]
    }
   ],
   "source": [
    "df.info()"
   ]
  },
  {
   "cell_type": "markdown",
   "id": "951a77d7",
   "metadata": {},
   "source": [
    "Acima observa-se que os dados da tabela não são numéricos, por isso temos que converter.\n",
    "E para o estudo vamos usar a coluna Budget (receita) e Worldwide Gross(arrecadação mundial)."
   ]
  },
  {
   "cell_type": "code",
   "execution_count": 5,
   "id": "996cb78f",
   "metadata": {},
   "outputs": [
    {
     "data": {
      "text/html": [
       "<div>\n",
       "<style scoped>\n",
       "    .dataframe tbody tr th:only-of-type {\n",
       "        vertical-align: middle;\n",
       "    }\n",
       "\n",
       "    .dataframe tbody tr th {\n",
       "        vertical-align: top;\n",
       "    }\n",
       "\n",
       "    .dataframe thead th {\n",
       "        text-align: right;\n",
       "    }\n",
       "</style>\n",
       "<table border=\"1\" class=\"dataframe\">\n",
       "  <thead>\n",
       "    <tr style=\"text-align: right;\">\n",
       "      <th></th>\n",
       "      <th>Production_Budget_USD</th>\n",
       "      <th>Worldwide_Gross_USD</th>\n",
       "    </tr>\n",
       "  </thead>\n",
       "  <tbody>\n",
       "    <tr>\n",
       "      <th>0</th>\n",
       "      <td>110,000</td>\n",
       "      <td>11,000,000</td>\n",
       "    </tr>\n",
       "    <tr>\n",
       "      <th>2</th>\n",
       "      <td>200,000</td>\n",
       "      <td>8,000,000</td>\n",
       "    </tr>\n",
       "    <tr>\n",
       "      <th>3</th>\n",
       "      <td>100,000</td>\n",
       "      <td>3,000,000</td>\n",
       "    </tr>\n",
       "    <tr>\n",
       "      <th>4</th>\n",
       "      <td>245,000</td>\n",
       "      <td>22,000,000</td>\n",
       "    </tr>\n",
       "    <tr>\n",
       "      <th>5</th>\n",
       "      <td>3,900,000</td>\n",
       "      <td>9,000,000</td>\n",
       "    </tr>\n",
       "  </tbody>\n",
       "</table>\n",
       "</div>"
      ],
      "text/plain": [
       "  Production_Budget_USD Worldwide_Gross_USD\n",
       "0               110,000          11,000,000\n",
       "2               200,000           8,000,000\n",
       "3               100,000           3,000,000\n",
       "4               245,000          22,000,000\n",
       "5             3,900,000           9,000,000"
      ]
     },
     "execution_count": 5,
     "metadata": {},
     "output_type": "execute_result"
    }
   ],
   "source": [
    "df[[\"lixo\",\"Production_Budget_USD\"]]=df['Production Budget ($)'].str.split('$',expand=True)# cria uma nova coluna tira o simbolo de cifra \n",
    "df[[\"lixo2\",\"Worldwide_Gross_USD\"]]=df['Worldwide Gross ($)'].str.split('$',expand=True)# cria uma nova coluna tira o simbolo de cifra \n",
    "df=df.drop(columns=['lixo','lixo2','Production Budget ($)','Worldwide Gross ($)','Domestic Gross ($)','Rank','Release Date','Movie Title',])#só as colunas utilizadas\n",
    "df.head()"
   ]
  },
  {
   "cell_type": "markdown",
   "id": "2e981e61",
   "metadata": {},
   "source": [
    "os dados ainda não são numéricos"
   ]
  },
  {
   "cell_type": "code",
   "execution_count": 6,
   "id": "1c3d5df4",
   "metadata": {},
   "outputs": [],
   "source": [
    "#tira as virgulas das colunas\n",
    "df['Production_Budget_USD']=df['Production_Budget_USD'].str.replace(',','')\n",
    "df['Worldwide_Gross_USD']=df['Worldwide_Gross_USD'].str.replace(',','')"
   ]
  },
  {
   "cell_type": "code",
   "execution_count": 7,
   "id": "5cf37737",
   "metadata": {},
   "outputs": [],
   "source": [
    "#converte para númerico\n",
    "df[\"Production_Budget_USD\"] = pd.to_numeric(df[\"Production_Budget_USD\"])\n",
    "df[\"Worldwide_Gross_USD\"] = pd.to_numeric(df[\"Worldwide_Gross_USD\"])"
   ]
  },
  {
   "cell_type": "code",
   "execution_count": 8,
   "id": "00bc17aa",
   "metadata": {},
   "outputs": [
    {
     "name": "stdout",
     "output_type": "stream",
     "text": [
      "<class 'pandas.core.frame.DataFrame'>\n",
      "Int64Index: 5034 entries, 0 to 5382\n",
      "Data columns (total 2 columns):\n",
      " #   Column                 Non-Null Count  Dtype\n",
      "---  ------                 --------------  -----\n",
      " 0   Production_Budget_USD  5034 non-null   int64\n",
      " 1   Worldwide_Gross_USD    5034 non-null   int64\n",
      "dtypes: int64(2)\n",
      "memory usage: 118.0 KB\n"
     ]
    }
   ],
   "source": [
    "df.info()"
   ]
  },
  {
   "cell_type": "markdown",
   "id": "fd2611ea",
   "metadata": {},
   "source": [
    "Podemos usar o describe para ver algumas analises prévias dos dados"
   ]
  },
  {
   "cell_type": "code",
   "execution_count": 9,
   "id": "a6196b46",
   "metadata": {},
   "outputs": [
    {
     "data": {
      "text/html": [
       "<div>\n",
       "<style scoped>\n",
       "    .dataframe tbody tr th:only-of-type {\n",
       "        vertical-align: middle;\n",
       "    }\n",
       "\n",
       "    .dataframe tbody tr th {\n",
       "        vertical-align: top;\n",
       "    }\n",
       "\n",
       "    .dataframe thead th {\n",
       "        text-align: right;\n",
       "    }\n",
       "</style>\n",
       "<table border=\"1\" class=\"dataframe\">\n",
       "  <thead>\n",
       "    <tr style=\"text-align: right;\">\n",
       "      <th></th>\n",
       "      <th>Production_Budget_USD</th>\n",
       "      <th>Worldwide_Gross_USD</th>\n",
       "    </tr>\n",
       "  </thead>\n",
       "  <tbody>\n",
       "    <tr>\n",
       "      <th>count</th>\n",
       "      <td>5.034000e+03</td>\n",
       "      <td>5.034000e+03</td>\n",
       "    </tr>\n",
       "    <tr>\n",
       "      <th>mean</th>\n",
       "      <td>3.290784e+07</td>\n",
       "      <td>9.515685e+07</td>\n",
       "    </tr>\n",
       "    <tr>\n",
       "      <th>std</th>\n",
       "      <td>4.112589e+07</td>\n",
       "      <td>1.726012e+08</td>\n",
       "    </tr>\n",
       "    <tr>\n",
       "      <th>min</th>\n",
       "      <td>1.100000e+03</td>\n",
       "      <td>2.600000e+01</td>\n",
       "    </tr>\n",
       "    <tr>\n",
       "      <th>25%</th>\n",
       "      <td>6.000000e+06</td>\n",
       "      <td>7.000000e+06</td>\n",
       "    </tr>\n",
       "    <tr>\n",
       "      <th>50%</th>\n",
       "      <td>1.900000e+07</td>\n",
       "      <td>3.296202e+07</td>\n",
       "    </tr>\n",
       "    <tr>\n",
       "      <th>75%</th>\n",
       "      <td>4.200000e+07</td>\n",
       "      <td>1.034471e+08</td>\n",
       "    </tr>\n",
       "    <tr>\n",
       "      <th>max</th>\n",
       "      <td>4.250000e+08</td>\n",
       "      <td>2.783919e+09</td>\n",
       "    </tr>\n",
       "  </tbody>\n",
       "</table>\n",
       "</div>"
      ],
      "text/plain": [
       "       Production_Budget_USD  Worldwide_Gross_USD\n",
       "count           5.034000e+03         5.034000e+03\n",
       "mean            3.290784e+07         9.515685e+07\n",
       "std             4.112589e+07         1.726012e+08\n",
       "min             1.100000e+03         2.600000e+01\n",
       "25%             6.000000e+06         7.000000e+06\n",
       "50%             1.900000e+07         3.296202e+07\n",
       "75%             4.200000e+07         1.034471e+08\n",
       "max             4.250000e+08         2.783919e+09"
      ]
     },
     "execution_count": 9,
     "metadata": {},
     "output_type": "execute_result"
    }
   ],
   "source": [
    "df.describe()"
   ]
  },
  {
   "cell_type": "markdown",
   "id": "949d9f10",
   "metadata": {},
   "source": [
    "Por algum motivo não funcionou seguir com o código. Por isso vou exportar e continuar"
   ]
  },
  {
   "cell_type": "code",
   "execution_count": 10,
   "id": "cf9a56af",
   "metadata": {},
   "outputs": [],
   "source": [
    "df.to_csv(\"cost_revenue_dirty_new.csv\", index = False)"
   ]
  },
  {
   "cell_type": "markdown",
   "id": "e1ba49f7",
   "metadata": {},
   "source": [
    "carregando o novo arquivo"
   ]
  },
  {
   "cell_type": "code",
   "execution_count": 11,
   "id": "d53f0b59",
   "metadata": {},
   "outputs": [
    {
     "data": {
      "text/html": [
       "<div>\n",
       "<style scoped>\n",
       "    .dataframe tbody tr th:only-of-type {\n",
       "        vertical-align: middle;\n",
       "    }\n",
       "\n",
       "    .dataframe tbody tr th {\n",
       "        vertical-align: top;\n",
       "    }\n",
       "\n",
       "    .dataframe thead th {\n",
       "        text-align: right;\n",
       "    }\n",
       "</style>\n",
       "<table border=\"1\" class=\"dataframe\">\n",
       "  <thead>\n",
       "    <tr style=\"text-align: right;\">\n",
       "      <th></th>\n",
       "      <th>Production_Budget_USD</th>\n",
       "      <th>Worldwide_Gross_USD</th>\n",
       "    </tr>\n",
       "  </thead>\n",
       "  <tbody>\n",
       "    <tr>\n",
       "      <th>0</th>\n",
       "      <td>110000</td>\n",
       "      <td>11000000</td>\n",
       "    </tr>\n",
       "    <tr>\n",
       "      <th>1</th>\n",
       "      <td>200000</td>\n",
       "      <td>8000000</td>\n",
       "    </tr>\n",
       "    <tr>\n",
       "      <th>2</th>\n",
       "      <td>100000</td>\n",
       "      <td>3000000</td>\n",
       "    </tr>\n",
       "    <tr>\n",
       "      <th>3</th>\n",
       "      <td>245000</td>\n",
       "      <td>22000000</td>\n",
       "    </tr>\n",
       "    <tr>\n",
       "      <th>4</th>\n",
       "      <td>3900000</td>\n",
       "      <td>9000000</td>\n",
       "    </tr>\n",
       "  </tbody>\n",
       "</table>\n",
       "</div>"
      ],
      "text/plain": [
       "   Production_Budget_USD  Worldwide_Gross_USD\n",
       "0                 110000             11000000\n",
       "1                 200000              8000000\n",
       "2                 100000              3000000\n",
       "3                 245000             22000000\n",
       "4                3900000              9000000"
      ]
     },
     "execution_count": 11,
     "metadata": {},
     "output_type": "execute_result"
    }
   ],
   "source": [
    "df=pd.read_csv(\"cost_revenue_dirty_new.csv\")#carregando os dados\n",
    "df.head()"
   ]
  },
  {
   "cell_type": "markdown",
   "id": "e39dc604",
   "metadata": {},
   "source": [
    "Para melhor organização, vou separar as variaveis"
   ]
  },
  {
   "cell_type": "code",
   "execution_count": 12,
   "id": "8f2f50a5",
   "metadata": {},
   "outputs": [],
   "source": [
    "X=DataFrame(df,columns=['Production_Budget_USD'])\n",
    "Y=DataFrame(df,columns=['Worldwide_Gross_USD'])"
   ]
  },
  {
   "cell_type": "code",
   "execution_count": 18,
   "id": "fa21b8b7",
   "metadata": {},
   "outputs": [
    {
     "data": {
      "image/png": "[encoded data removed]",
      "text/plain": [
       "<Figure size 720x432 with 1 Axes>"
      ]
     },
     "metadata": {
      "needs_background": "light"
     },
     "output_type": "display_data"
    }
   ],
   "source": [
    "plt.figure(figsize=(10,6))#tamanho\n",
    "plt.scatter(X,Y,alpha=0.3)\n",
    "plt.title('Film cost vs Global revenue')# titulo do gráfico\n",
    "plt.ylim(0,3000000000)\n",
    "plt.xlim(0,450000000)\n",
    "#x e y label\n",
    "plt.xlabel(\"Production Budget $\")\n",
    "plt.ylabel(\"Worldwide Gross $\")\n",
    "plt.show()"
   ]
  },
  {
   "cell_type": "code",
   "execution_count": 14,
   "id": "4bebc405",
   "metadata": {},
   "outputs": [
    {
     "data": {
      "text/plain": [
       "LinearRegression()"
      ]
     },
     "execution_count": 14,
     "metadata": {},
     "output_type": "execute_result"
    }
   ],
   "source": [
    "regression=LinearRegression()\n",
    "regression.fit(X,Y)"
   ]
  },
  {
   "cell_type": "markdown",
   "id": "a877cf9c",
   "metadata": {},
   "source": [
    "**Slop Coefficient:**"
   ]
  },
  {
   "cell_type": "code",
   "execution_count": 15,
   "id": "c9361805",
   "metadata": {},
   "outputs": [
    {
     "data": {
      "text/plain": [
       "array([[3.11150918]])"
      ]
     },
     "execution_count": 15,
     "metadata": {},
     "output_type": "execute_result"
    }
   ],
   "source": [
    "regression.coef_ #theta 1"
   ]
  },
  {
   "cell_type": "markdown",
   "id": "25758e0d",
   "metadata": {},
   "source": [
    "para cada dolar gostado na produção de um filme, retorna 3.11150918"
   ]
  },
  {
   "cell_type": "code",
   "execution_count": 16,
   "id": "60fcb15f",
   "metadata": {},
   "outputs": [
    {
     "data": {
      "text/plain": [
       "array([-7236192.72913963])"
      ]
     },
     "execution_count": 16,
     "metadata": {},
     "output_type": "execute_result"
    }
   ],
   "source": [
    "regression.intercept_"
   ]
  },
  {
   "cell_type": "markdown",
   "id": "ade9faf5",
   "metadata": {},
   "source": [
    "cada filme que o buget é zero perde-se 7 milhões de dolares"
   ]
  },
  {
   "cell_type": "code",
   "execution_count": 21,
   "id": "b036e112",
   "metadata": {},
   "outputs": [
    {
     "data": {
      "image/png": "[encoded data removed]",
      "text/plain": [
       "<Figure size 720x432 with 1 Axes>"
      ]
     },
     "metadata": {
      "needs_background": "light"
     },
     "output_type": "display_data"
    }
   ],
   "source": [
    "plt.figure(figsize=(10,6))#tamanho\n",
    "plt.scatter(X,Y,alpha=0.3)\n",
    "plt.plot(X,regression.predict(X),color='red',linewidth=4)\n",
    "plt.title('Film cost vs Global revenue')# titulo do gráfico\n",
    "plt.ylim(0,3000000000)\n",
    "plt.xlim(0,450000000)\n",
    "#x e y label\n",
    "plt.xlabel(\"Production Budget $\")\n",
    "plt.ylabel(\"Worldwide Gross $\")\n",
    "plt.show()"
   ]
  },
  {
   "cell_type": "markdown",
   "id": "5f7f9039",
   "metadata": {},
   "source": [
    "Um filme que custou 50 milhoes para ser produzido:\n",
    "t0=-7236192.72\n",
    "t1=3.11150918\n",
    "\n",
    "h0(x)=-7236192.72+3.11150918*(x)\n",
    "h0(x)=-7236192.72+3.11150918*500000000\n",
    "ho(x)=148.339.266,28"
   ]
  },
  {
   "cell_type": "code",
   "execution_count": 22,
   "id": "0e834a07",
   "metadata": {},
   "outputs": [
    {
     "data": {
      "text/plain": [
       "0.5496485356985729"
      ]
     },
     "execution_count": 22,
     "metadata": {},
     "output_type": "execute_result"
    }
   ],
   "source": [
    "#acuracia\n",
    "regression.score(X,Y)"
   ]
  }
 ],
 "metadata": {
  "kernelspec": {
   "display_name": "Python 3 (ipykernel)",
   "language": "python",
   "name": "python3"
  },
  "language_info": {
   "codemirror_mode": {
    "name": "ipython",
    "version": 3
   },
   "file_extension": ".py",
   "mimetype": "text/x-python",
   "name": "python",
   "nbconvert_exporter": "python",
   "pygments_lexer": "ipython3",
   "version": "3.9.7"
  }
 },
 "nbformat": 4,
 "nbformat_minor": 5
}
